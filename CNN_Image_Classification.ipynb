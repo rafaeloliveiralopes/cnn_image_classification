{
  "nbformat": 4,
  "nbformat_minor": 0,
  "metadata": {
    "colab": {
      "provenance": [],
      "authorship_tag": "ABX9TyMp9E1unSBKwcH9kdOrHUG7",
      "include_colab_link": true
    },
    "kernelspec": {
      "name": "python3",
      "display_name": "Python 3"
    },
    "language_info": {
      "name": "python"
    }
  },
  "cells": [
    {
      "cell_type": "markdown",
      "metadata": {
        "id": "view-in-github",
        "colab_type": "text"
      },
      "source": [
        "<a href=\"https://colab.research.google.com/github/rafaeloliveiralopes/cnn_image_classification/blob/main/CNN_Image_Classification.ipynb\" target=\"_parent\"><img src=\"https://colab.research.google.com/assets/colab-badge.svg\" alt=\"Open In Colab\"/></a>"
      ]
    },
    {
      "cell_type": "code",
      "source": [
        "# Cria um modelo sequencial, onde as camadas são empilhadas linearmente\n",
        "from keras.models import Sequential\n",
        "# Importa camadas densas (totalmente conectadas), dropout (regularização) e flatten (achatamento)\n",
        "from keras.layers import Dense, Dropout, Flatten\n",
        "# Importa camadas de convolução 2D e de pooling máximo 2D, usadas em redes neurais convolucionais\n",
        "from keras.layers import Conv2D, MaxPooling2D\n",
        "# Importa o otimizador Adam, utilizado para ajustar os pesos do modelo durante o treinamento\n",
        "from keras.optimizers import Adam\n",
        "# Gera lotes de dados de imagem com aumento de dados em tempo real\n",
        "from tensorflow.keras.preprocessing.image import ImageDataGenerator\n",
        "# Reduz a taxa de aprendizado quando uma métrica para de melhorar\n",
        "from tensorflow.keras.callbacks import ReduceLROnPlateau\n",
        "# Função para converter os rótulos em one-hot encoding\n",
        "from tensorflow.keras.utils import to_categorical\n",
        "# Carrega o dataset MNIST\n",
        "from tensorflow.keras.datasets import mnist\n",
        "\n",
        "import matplotlib.pyplot as plt\n",
        "\n",
        "\n",
        "# Carrega os dados MNIST\n",
        "(x_train, y_train), (x_test, y_test) = mnist.load_data()\n",
        "\n",
        "# Normaliza os dados de entrada para o intervalo [0, 1]\n",
        "x_train = x_train.astype('float32') / 255\n",
        "x_test = x_test.astype('float32') / 255\n",
        "\n",
        "# Adiciona uma dimensão para compatibilidade com camadas convolucionais\n",
        "x_train = x_train.reshape(x_train.shape[0], 28, 28, 1)\n",
        "x_test = x_test.reshape(x_test.shape[0], 28, 28, 1)\n",
        "\n",
        "# Converte os rótulos para o formato one-hot encoding\n",
        "y_train = to_categorical(y_train, 10)\n",
        "y_test = to_categorical(y_test, 10)\n",
        "\n",
        "# Inicializa o modelo sequencial\n",
        "model = Sequential()\n",
        "\n",
        "# Adiciona uma camada convolucional com 32 filtros, tamanho de kernel 5x5, função de ativação ReLU, padding 'same' e define a forma de entrada\n",
        "model.add(Conv2D(32, (5, 5), activation='relu', padding='same', input_shape=(28, 28, 1)))\n",
        "\n",
        "# Adiciona uma segunda camada convolucional com 64 filtros, tamanho de kernel 5x5, função de ativação ReLU e padding 'same'\n",
        "model.add(Conv2D(64, (5, 5), activation='relu', padding='same'))\n",
        "\n",
        "# Adiciona uma camada de pooling máximo com janela 2x2 para redução de dimensionalidade\n",
        "model.add(MaxPooling2D(pool_size=(2, 2)))\n",
        "\n",
        "# Adiciona uma camada Dropout com taxa de 25% para evitar overfitting\n",
        "model.add(Dropout(0.25))\n",
        "\n",
        "# Achata a saída das camadas anteriores para formar um vetor unidimensional\n",
        "model.add(Flatten())\n",
        "\n",
        "# Adiciona uma camada densa totalmente conectada com 128 neurônios e função de ativação ReLU\n",
        "model.add(Dense(128, activation='relu'))\n",
        "\n",
        "# Adiciona uma camada Dropout com taxa de 50% para evitar overfitting\n",
        "model.add(Dropout(0.5))\n",
        "\n",
        "# Adiciona a camada de saída com 10 neurônios (correspondentes às classes) e função de ativação softmax para classificação\n",
        "model.add(Dense(10, activation='softmax'))\n",
        "\n",
        "# Inicializa o otimizador Adam com parâmetros padrão\n",
        "optimizer = Adam()\n",
        "# Compila o modelo especificando a função de perda, o otimizador e as métricas de avaliação\n",
        "model.compile(loss='categorical_crossentropy', optimizer=optimizer, metrics=['accuracy'])\n",
        "# Exibe um resumo da arquitetura do modelo, incluindo camadas, formas de saída e número de parâmetros\n",
        "print(model.summary())\n",
        "\n",
        "\n",
        "# Configura o callback para reduzir a taxa de aprendizado\n",
        "learning_rate_reduction = ReduceLROnPlateau(\n",
        "    # Monitora a acurácia na validação\n",
        "    monitor='val_accuracy',\n",
        "    # Espera 3 épocas sem melhoria antes de reduzir\n",
        "    patience=3,\n",
        "    # Exibe mensagens quando a redução ocorre\n",
        "    verbose=1,\n",
        "    # Reduz a taxa de aprendizado pela metade\n",
        "    factor=0.5,\n",
        "    # Define a taxa de aprendizado mínima\n",
        "    min_lr=0.00001\n",
        ")\n",
        "\n",
        "\n",
        "# Define o tamanho do lote para 32 amostras\n",
        "batch_size = 32\n",
        "# Define o número de épocas de treinamento para 10\n",
        "epochs = 10\n",
        "\n",
        "# Treina o modelo com os dados de treinamento\n",
        "history = model.fit(\n",
        "    # Dados de entrada para treinamento\n",
        "    x_train,\n",
        "    # Rótulos correspondentes aos dados de entrada\n",
        "    y_train,\n",
        "    # Número de amostras por atualização de gradiente\n",
        "    batch_size=batch_size,\n",
        "    # Número de épocas para treinar o modelo\n",
        "    epochs=epochs,\n",
        "    # Porcentagem dos dados de treinamento usada para validação\n",
        "    validation_split=0.2,\n",
        "    # Nível de verbosidade; 1 exibe barra de progresso\n",
        "    verbose=1,\n",
        "    # Lista de callbacks a serem chamados durante o treinamento\n",
        "    callbacks=[learning_rate_reduction]\n",
        ")\n",
        "\n",
        "# Extrai o dicionário de histórico do objeto 'history'\n",
        "history_dict = history.history\n",
        "\n",
        "# Obtém a lista de acurácias de treinamento por época\n",
        "accuracy = history_dict['accuracy']\n",
        "\n",
        "# Obtém a lista de acurácias de validação por época\n",
        "val_accuracy = history_dict['val_accuracy']\n",
        "\n",
        "# Cria uma faixa de valores correspondente ao número de épocas\n",
        "range_epochs = range(1, len(accuracy) + 1)\n",
        "\n",
        "# Define o estilo padrão para os gráficos\n",
        "plt.style.use('default')\n",
        "\n",
        "# Plota a acurácia no conjunto de validação ao longo das épocas\n",
        "accuracy_values = plt.plot(range_epochs, val_accuracy, label='Acurácia no conjunto de validação')\n",
        "\n",
        "# Plota a acurácia no conjunto de treinamento ao longo das épocas\n",
        "accuracy_train = plt.plot(range_epochs, accuracy, label='Acurácia no conjunto de treinamento')\n",
        "\n",
        "# Define a largura das linhas dos gráficos\n",
        "plt.setp(accuracy_values, linewidth=2.0)\n",
        "plt.setp(accuracy_train, linewidth=2.0)\n",
        "\n",
        "# Adiciona rótulo ao eixo x\n",
        "plt.xlabel('Épocas')\n",
        "\n",
        "# Adiciona rótulo ao eixo y\n",
        "plt.ylabel('Acurácia')\n",
        "\n",
        "# Adiciona uma legenda no canto inferior direito do gráfico\n",
        "plt.legend(loc='lower right')\n",
        "plt.show()\n"
      ],
      "metadata": {
        "colab": {
          "base_uri": "https://localhost:8080/",
          "height": 1000
        },
        "id": "S9jn5ht93mVr",
        "outputId": "ff19bf6a-da00-4461-e975-c39632c1a6ea"
      },
      "execution_count": 1,
      "outputs": [
        {
          "output_type": "stream",
          "name": "stdout",
          "text": [
            "Downloading data from https://storage.googleapis.com/tensorflow/tf-keras-datasets/mnist.npz\n",
            "\u001b[1m11490434/11490434\u001b[0m \u001b[32m━━━━━━━━━━━━━━━━━━━━\u001b[0m\u001b[37m\u001b[0m \u001b[1m0s\u001b[0m 0us/step\n"
          ]
        },
        {
          "output_type": "stream",
          "name": "stderr",
          "text": [
            "/usr/local/lib/python3.10/dist-packages/keras/src/layers/convolutional/base_conv.py:107: UserWarning: Do not pass an `input_shape`/`input_dim` argument to a layer. When using Sequential models, prefer using an `Input(shape)` object as the first layer in the model instead.\n",
            "  super().__init__(activity_regularizer=activity_regularizer, **kwargs)\n"
          ]
        },
        {
          "output_type": "display_data",
          "data": {
            "text/plain": [
              "\u001b[1mModel: \"sequential\"\u001b[0m\n"
            ],
            "text/html": [
              "<pre style=\"white-space:pre;overflow-x:auto;line-height:normal;font-family:Menlo,'DejaVu Sans Mono',consolas,'Courier New',monospace\"><span style=\"font-weight: bold\">Model: \"sequential\"</span>\n",
              "</pre>\n"
            ]
          },
          "metadata": {}
        },
        {
          "output_type": "display_data",
          "data": {
            "text/plain": [
              "┏━━━━━━━━━━━━━━━━━━━━━━━━━━━━━━━━━━━━━━┳━━━━━━━━━━━━━━━━━━━━━━━━━━━━━┳━━━━━━━━━━━━━━━━━┓\n",
              "┃\u001b[1m \u001b[0m\u001b[1mLayer (type)                        \u001b[0m\u001b[1m \u001b[0m┃\u001b[1m \u001b[0m\u001b[1mOutput Shape               \u001b[0m\u001b[1m \u001b[0m┃\u001b[1m \u001b[0m\u001b[1m        Param #\u001b[0m\u001b[1m \u001b[0m┃\n",
              "┡━━━━━━━━━━━━━━━━━━━━━━━━━━━━━━━━━━━━━━╇━━━━━━━━━━━━━━━━━━━━━━━━━━━━━╇━━━━━━━━━━━━━━━━━┩\n",
              "│ conv2d (\u001b[38;5;33mConv2D\u001b[0m)                      │ (\u001b[38;5;45mNone\u001b[0m, \u001b[38;5;34m28\u001b[0m, \u001b[38;5;34m28\u001b[0m, \u001b[38;5;34m32\u001b[0m)          │             \u001b[38;5;34m832\u001b[0m │\n",
              "├──────────────────────────────────────┼─────────────────────────────┼─────────────────┤\n",
              "│ conv2d_1 (\u001b[38;5;33mConv2D\u001b[0m)                    │ (\u001b[38;5;45mNone\u001b[0m, \u001b[38;5;34m28\u001b[0m, \u001b[38;5;34m28\u001b[0m, \u001b[38;5;34m64\u001b[0m)          │          \u001b[38;5;34m51,264\u001b[0m │\n",
              "├──────────────────────────────────────┼─────────────────────────────┼─────────────────┤\n",
              "│ max_pooling2d (\u001b[38;5;33mMaxPooling2D\u001b[0m)         │ (\u001b[38;5;45mNone\u001b[0m, \u001b[38;5;34m14\u001b[0m, \u001b[38;5;34m14\u001b[0m, \u001b[38;5;34m64\u001b[0m)          │               \u001b[38;5;34m0\u001b[0m │\n",
              "├──────────────────────────────────────┼─────────────────────────────┼─────────────────┤\n",
              "│ dropout (\u001b[38;5;33mDropout\u001b[0m)                    │ (\u001b[38;5;45mNone\u001b[0m, \u001b[38;5;34m14\u001b[0m, \u001b[38;5;34m14\u001b[0m, \u001b[38;5;34m64\u001b[0m)          │               \u001b[38;5;34m0\u001b[0m │\n",
              "├──────────────────────────────────────┼─────────────────────────────┼─────────────────┤\n",
              "│ flatten (\u001b[38;5;33mFlatten\u001b[0m)                    │ (\u001b[38;5;45mNone\u001b[0m, \u001b[38;5;34m12544\u001b[0m)               │               \u001b[38;5;34m0\u001b[0m │\n",
              "├──────────────────────────────────────┼─────────────────────────────┼─────────────────┤\n",
              "│ dense (\u001b[38;5;33mDense\u001b[0m)                        │ (\u001b[38;5;45mNone\u001b[0m, \u001b[38;5;34m128\u001b[0m)                 │       \u001b[38;5;34m1,605,760\u001b[0m │\n",
              "├──────────────────────────────────────┼─────────────────────────────┼─────────────────┤\n",
              "│ dropout_1 (\u001b[38;5;33mDropout\u001b[0m)                  │ (\u001b[38;5;45mNone\u001b[0m, \u001b[38;5;34m128\u001b[0m)                 │               \u001b[38;5;34m0\u001b[0m │\n",
              "├──────────────────────────────────────┼─────────────────────────────┼─────────────────┤\n",
              "│ dense_1 (\u001b[38;5;33mDense\u001b[0m)                      │ (\u001b[38;5;45mNone\u001b[0m, \u001b[38;5;34m10\u001b[0m)                  │           \u001b[38;5;34m1,290\u001b[0m │\n",
              "└──────────────────────────────────────┴─────────────────────────────┴─────────────────┘\n"
            ],
            "text/html": [
              "<pre style=\"white-space:pre;overflow-x:auto;line-height:normal;font-family:Menlo,'DejaVu Sans Mono',consolas,'Courier New',monospace\">┏━━━━━━━━━━━━━━━━━━━━━━━━━━━━━━━━━━━━━━┳━━━━━━━━━━━━━━━━━━━━━━━━━━━━━┳━━━━━━━━━━━━━━━━━┓\n",
              "┃<span style=\"font-weight: bold\"> Layer (type)                         </span>┃<span style=\"font-weight: bold\"> Output Shape                </span>┃<span style=\"font-weight: bold\">         Param # </span>┃\n",
              "┡━━━━━━━━━━━━━━━━━━━━━━━━━━━━━━━━━━━━━━╇━━━━━━━━━━━━━━━━━━━━━━━━━━━━━╇━━━━━━━━━━━━━━━━━┩\n",
              "│ conv2d (<span style=\"color: #0087ff; text-decoration-color: #0087ff\">Conv2D</span>)                      │ (<span style=\"color: #00d7ff; text-decoration-color: #00d7ff\">None</span>, <span style=\"color: #00af00; text-decoration-color: #00af00\">28</span>, <span style=\"color: #00af00; text-decoration-color: #00af00\">28</span>, <span style=\"color: #00af00; text-decoration-color: #00af00\">32</span>)          │             <span style=\"color: #00af00; text-decoration-color: #00af00\">832</span> │\n",
              "├──────────────────────────────────────┼─────────────────────────────┼─────────────────┤\n",
              "│ conv2d_1 (<span style=\"color: #0087ff; text-decoration-color: #0087ff\">Conv2D</span>)                    │ (<span style=\"color: #00d7ff; text-decoration-color: #00d7ff\">None</span>, <span style=\"color: #00af00; text-decoration-color: #00af00\">28</span>, <span style=\"color: #00af00; text-decoration-color: #00af00\">28</span>, <span style=\"color: #00af00; text-decoration-color: #00af00\">64</span>)          │          <span style=\"color: #00af00; text-decoration-color: #00af00\">51,264</span> │\n",
              "├──────────────────────────────────────┼─────────────────────────────┼─────────────────┤\n",
              "│ max_pooling2d (<span style=\"color: #0087ff; text-decoration-color: #0087ff\">MaxPooling2D</span>)         │ (<span style=\"color: #00d7ff; text-decoration-color: #00d7ff\">None</span>, <span style=\"color: #00af00; text-decoration-color: #00af00\">14</span>, <span style=\"color: #00af00; text-decoration-color: #00af00\">14</span>, <span style=\"color: #00af00; text-decoration-color: #00af00\">64</span>)          │               <span style=\"color: #00af00; text-decoration-color: #00af00\">0</span> │\n",
              "├──────────────────────────────────────┼─────────────────────────────┼─────────────────┤\n",
              "│ dropout (<span style=\"color: #0087ff; text-decoration-color: #0087ff\">Dropout</span>)                    │ (<span style=\"color: #00d7ff; text-decoration-color: #00d7ff\">None</span>, <span style=\"color: #00af00; text-decoration-color: #00af00\">14</span>, <span style=\"color: #00af00; text-decoration-color: #00af00\">14</span>, <span style=\"color: #00af00; text-decoration-color: #00af00\">64</span>)          │               <span style=\"color: #00af00; text-decoration-color: #00af00\">0</span> │\n",
              "├──────────────────────────────────────┼─────────────────────────────┼─────────────────┤\n",
              "│ flatten (<span style=\"color: #0087ff; text-decoration-color: #0087ff\">Flatten</span>)                    │ (<span style=\"color: #00d7ff; text-decoration-color: #00d7ff\">None</span>, <span style=\"color: #00af00; text-decoration-color: #00af00\">12544</span>)               │               <span style=\"color: #00af00; text-decoration-color: #00af00\">0</span> │\n",
              "├──────────────────────────────────────┼─────────────────────────────┼─────────────────┤\n",
              "│ dense (<span style=\"color: #0087ff; text-decoration-color: #0087ff\">Dense</span>)                        │ (<span style=\"color: #00d7ff; text-decoration-color: #00d7ff\">None</span>, <span style=\"color: #00af00; text-decoration-color: #00af00\">128</span>)                 │       <span style=\"color: #00af00; text-decoration-color: #00af00\">1,605,760</span> │\n",
              "├──────────────────────────────────────┼─────────────────────────────┼─────────────────┤\n",
              "│ dropout_1 (<span style=\"color: #0087ff; text-decoration-color: #0087ff\">Dropout</span>)                  │ (<span style=\"color: #00d7ff; text-decoration-color: #00d7ff\">None</span>, <span style=\"color: #00af00; text-decoration-color: #00af00\">128</span>)                 │               <span style=\"color: #00af00; text-decoration-color: #00af00\">0</span> │\n",
              "├──────────────────────────────────────┼─────────────────────────────┼─────────────────┤\n",
              "│ dense_1 (<span style=\"color: #0087ff; text-decoration-color: #0087ff\">Dense</span>)                      │ (<span style=\"color: #00d7ff; text-decoration-color: #00d7ff\">None</span>, <span style=\"color: #00af00; text-decoration-color: #00af00\">10</span>)                  │           <span style=\"color: #00af00; text-decoration-color: #00af00\">1,290</span> │\n",
              "└──────────────────────────────────────┴─────────────────────────────┴─────────────────┘\n",
              "</pre>\n"
            ]
          },
          "metadata": {}
        },
        {
          "output_type": "display_data",
          "data": {
            "text/plain": [
              "\u001b[1m Total params: \u001b[0m\u001b[38;5;34m1,659,146\u001b[0m (6.33 MB)\n"
            ],
            "text/html": [
              "<pre style=\"white-space:pre;overflow-x:auto;line-height:normal;font-family:Menlo,'DejaVu Sans Mono',consolas,'Courier New',monospace\"><span style=\"font-weight: bold\"> Total params: </span><span style=\"color: #00af00; text-decoration-color: #00af00\">1,659,146</span> (6.33 MB)\n",
              "</pre>\n"
            ]
          },
          "metadata": {}
        },
        {
          "output_type": "display_data",
          "data": {
            "text/plain": [
              "\u001b[1m Trainable params: \u001b[0m\u001b[38;5;34m1,659,146\u001b[0m (6.33 MB)\n"
            ],
            "text/html": [
              "<pre style=\"white-space:pre;overflow-x:auto;line-height:normal;font-family:Menlo,'DejaVu Sans Mono',consolas,'Courier New',monospace\"><span style=\"font-weight: bold\"> Trainable params: </span><span style=\"color: #00af00; text-decoration-color: #00af00\">1,659,146</span> (6.33 MB)\n",
              "</pre>\n"
            ]
          },
          "metadata": {}
        },
        {
          "output_type": "display_data",
          "data": {
            "text/plain": [
              "\u001b[1m Non-trainable params: \u001b[0m\u001b[38;5;34m0\u001b[0m (0.00 B)\n"
            ],
            "text/html": [
              "<pre style=\"white-space:pre;overflow-x:auto;line-height:normal;font-family:Menlo,'DejaVu Sans Mono',consolas,'Courier New',monospace\"><span style=\"font-weight: bold\"> Non-trainable params: </span><span style=\"color: #00af00; text-decoration-color: #00af00\">0</span> (0.00 B)\n",
              "</pre>\n"
            ]
          },
          "metadata": {}
        },
        {
          "output_type": "stream",
          "name": "stdout",
          "text": [
            "None\n",
            "Epoch 1/10\n",
            "\u001b[1m1500/1500\u001b[0m \u001b[32m━━━━━━━━━━━━━━━━━━━━\u001b[0m\u001b[37m\u001b[0m \u001b[1m414s\u001b[0m 274ms/step - accuracy: 0.8849 - loss: 0.3666 - val_accuracy: 0.9875 - val_loss: 0.0441 - learning_rate: 0.0010\n",
            "Epoch 2/10\n",
            "\u001b[1m1500/1500\u001b[0m \u001b[32m━━━━━━━━━━━━━━━━━━━━\u001b[0m\u001b[37m\u001b[0m \u001b[1m436s\u001b[0m 270ms/step - accuracy: 0.9777 - loss: 0.0773 - val_accuracy: 0.9888 - val_loss: 0.0397 - learning_rate: 0.0010\n",
            "Epoch 3/10\n",
            "\u001b[1m1500/1500\u001b[0m \u001b[32m━━━━━━━━━━━━━━━━━━━━\u001b[0m\u001b[37m\u001b[0m \u001b[1m437s\u001b[0m 267ms/step - accuracy: 0.9833 - loss: 0.0545 - val_accuracy: 0.9849 - val_loss: 0.0525 - learning_rate: 0.0010\n",
            "Epoch 4/10\n",
            "\u001b[1m1500/1500\u001b[0m \u001b[32m━━━━━━━━━━━━━━━━━━━━\u001b[0m\u001b[37m\u001b[0m \u001b[1m438s\u001b[0m 265ms/step - accuracy: 0.9865 - loss: 0.0449 - val_accuracy: 0.9900 - val_loss: 0.0383 - learning_rate: 0.0010\n",
            "Epoch 5/10\n",
            "\u001b[1m1500/1500\u001b[0m \u001b[32m━━━━━━━━━━━━━━━━━━━━\u001b[0m\u001b[37m\u001b[0m \u001b[1m440s\u001b[0m 263ms/step - accuracy: 0.9895 - loss: 0.0340 - val_accuracy: 0.9902 - val_loss: 0.0367 - learning_rate: 0.0010\n",
            "Epoch 6/10\n",
            "\u001b[1m1500/1500\u001b[0m \u001b[32m━━━━━━━━━━━━━━━━━━━━\u001b[0m\u001b[37m\u001b[0m \u001b[1m464s\u001b[0m 278ms/step - accuracy: 0.9891 - loss: 0.0327 - val_accuracy: 0.9912 - val_loss: 0.0331 - learning_rate: 0.0010\n",
            "Epoch 7/10\n",
            "\u001b[1m1500/1500\u001b[0m \u001b[32m━━━━━━━━━━━━━━━━━━━━\u001b[0m\u001b[37m\u001b[0m \u001b[1m425s\u001b[0m 267ms/step - accuracy: 0.9906 - loss: 0.0297 - val_accuracy: 0.9906 - val_loss: 0.0353 - learning_rate: 0.0010\n",
            "Epoch 8/10\n",
            "\u001b[1m1500/1500\u001b[0m \u001b[32m━━━━━━━━━━━━━━━━━━━━\u001b[0m\u001b[37m\u001b[0m \u001b[1m398s\u001b[0m 265ms/step - accuracy: 0.9920 - loss: 0.0256 - val_accuracy: 0.9918 - val_loss: 0.0307 - learning_rate: 0.0010\n",
            "Epoch 9/10\n",
            "\u001b[1m1500/1500\u001b[0m \u001b[32m━━━━━━━━━━━━━━━━━━━━\u001b[0m\u001b[37m\u001b[0m \u001b[1m441s\u001b[0m 264ms/step - accuracy: 0.9934 - loss: 0.0221 - val_accuracy: 0.9909 - val_loss: 0.0375 - learning_rate: 0.0010\n",
            "Epoch 10/10\n",
            "\u001b[1m1500/1500\u001b[0m \u001b[32m━━━━━━━━━━━━━━━━━━━━\u001b[0m\u001b[37m\u001b[0m \u001b[1m443s\u001b[0m 265ms/step - accuracy: 0.9934 - loss: 0.0197 - val_accuracy: 0.9919 - val_loss: 0.0379 - learning_rate: 0.0010\n"
          ]
        },
        {
          "output_type": "display_data",
          "data": {
            "text/plain": [
              "<Figure size 640x480 with 1 Axes>"
            ],
            "image/png": "[encoded data removed]"
          },
          "metadata": {}
        }
      ]
    }
  ]
}